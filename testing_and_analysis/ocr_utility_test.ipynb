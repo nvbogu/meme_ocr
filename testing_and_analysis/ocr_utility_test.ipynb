{
 "cells": [
  {
   "cell_type": "code",
   "execution_count": 1,
   "id": "8785f6d9-ab62-4d20-9036-fe45c03d358a",
   "metadata": {},
   "outputs": [],
   "source": [
    "import ocr_utility\n",
    "import img_utility\n",
    "import text_scene_detection_utility"
   ]
  },
  {
   "cell_type": "code",
   "execution_count": 2,
   "id": "e28281b3-8302-48fe-97c4-1811cc2dac1c",
   "metadata": {},
   "outputs": [],
   "source": [
    "# Config\n",
    "custom_config = r'--oem 1 --psm 8'"
   ]
  },
  {
   "cell_type": "code",
   "execution_count": 3,
   "id": "1d29845e-1f06-43c8-b61f-463b02f30e17",
   "metadata": {},
   "outputs": [],
   "source": [
    "net = text_scene_detection_utility.build_model()"
   ]
  },
  {
   "cell_type": "code",
   "execution_count": 4,
   "id": "7314aaf6-301a-47a7-9a7d-b4f9f16fa402",
   "metadata": {},
   "outputs": [],
   "source": [
    "path = r'data\\data_fb\\img\\70623.png'\n",
    "# path = r'data/data_kaggle/memes/memes/34fi1c.png'\n",
    "path = 'E:\\github\\meme_classification\\data\\memotion_dataset\\memotion_dataset_7k\\images\\image_13.png'"
   ]
  },
  {
   "cell_type": "code",
   "execution_count": 5,
   "id": "85a9ab55-775c-4441-9bb9-35589fefd6d0",
   "metadata": {},
   "outputs": [],
   "source": [
    "img_list = img_utility.load_img(path)\n",
    "bounding_boxes, b, ret_score_text = text_scene_detection_utility.text_detection(net, img_list, text_threshold=0.8, link_threshold=0.4, low_text=0.4, cuda=True, poly=False, refine_net=None)\n",
    "croped_images, font_color, all_mean_edge_colors, total_mean_edge_colors_all = img_utility.crop_images(bounding_boxes, img_list)"
   ]
  },
  {
   "cell_type": "code",
   "execution_count": 6,
   "id": "d8e2c106-fc09-4e34-88ba-ea1e8fb8afd8",
   "metadata": {},
   "outputs": [
    {
     "data": {
      "text/plain": [
       "('\\\\did the facebook 10.0 year challenge and it was not kind to me. went 10.0 years into the future instead of back. instant regrets',\n",
       " 87.180008)"
      ]
     },
     "execution_count": 6,
     "metadata": {},
     "output_type": "execute_result"
    }
   ],
   "source": [
    "ocr_utility.image_to_text(croped_images, custom_config)"
   ]
  },
  {
   "cell_type": "code",
   "execution_count": null,
   "id": "7ee98aed-33e1-4241-974b-4afcfa7d6bb3",
   "metadata": {},
   "outputs": [],
   "source": []
  }
 ],
 "metadata": {
  "kernelspec": {
   "display_name": "Python 3",
   "language": "python",
   "name": "python3"
  },
  "language_info": {
   "codemirror_mode": {
    "name": "ipython",
    "version": 3
   },
   "file_extension": ".py",
   "mimetype": "text/x-python",
   "name": "python",
   "nbconvert_exporter": "python",
   "pygments_lexer": "ipython3",
   "version": "3.8.11"
  }
 },
 "nbformat": 4,
 "nbformat_minor": 5
}
