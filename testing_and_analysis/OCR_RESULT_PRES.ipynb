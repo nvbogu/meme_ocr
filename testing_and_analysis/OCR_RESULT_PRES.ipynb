{
 "cells": [
  {
   "cell_type": "code",
   "execution_count": 6,
   "id": "d601c922-34c4-40d6-8785-f6edca9aad22",
   "metadata": {},
   "outputs": [],
   "source": [
    "import pandas as pd\n",
    "import analysis_utility"
   ]
  },
  {
   "cell_type": "markdown",
   "id": "89501243-af31-449f-b3d9-63634e694763",
   "metadata": {},
   "source": [
    "FB"
   ]
  },
  {
   "cell_type": "markdown",
   "id": "7f962c63-2595-4e2e-920b-b1228b906939",
   "metadata": {},
   "source": [
    "Without Font"
   ]
  },
  {
   "cell_type": "code",
   "execution_count": 3,
   "id": "5203e9c2-1706-4922-91b8-cae0143811d5",
   "metadata": {},
   "outputs": [],
   "source": [
    "fb_without_font = pd.read_csv(r'fb_ocr_result_all_black.csv')"
   ]
  },
  {
   "cell_type": "code",
   "execution_count": 7,
   "id": "f9742e08-5db5-40b2-b419-60442eead853",
   "metadata": {},
   "outputs": [],
   "source": [
    "fb_without_font = analysis_utility.add_columns_on_df(fb_without_font, ['cos_similarity'])"
   ]
  },
  {
   "cell_type": "code",
   "execution_count": 12,
   "id": "634b09c8-5dbb-48ec-83dc-06307e615be0",
   "metadata": {},
   "outputs": [
    {
     "data": {
      "text/plain": [
       "52.24833370882027"
      ]
     },
     "execution_count": 12,
     "metadata": {},
     "output_type": "execute_result"
    }
   ],
   "source": [
    "fb_without_font.cos_similarity.mean()"
   ]
  },
  {
   "cell_type": "code",
   "execution_count": 27,
   "id": "63b2c152-7e26-4b36-9b74-9c3a35982535",
   "metadata": {},
   "outputs": [
    {
     "data": {
      "text/html": [
       "<div>\n",
       "<style scoped>\n",
       "    .dataframe tbody tr th:only-of-type {\n",
       "        vertical-align: middle;\n",
       "    }\n",
       "\n",
       "    .dataframe tbody tr th {\n",
       "        vertical-align: top;\n",
       "    }\n",
       "\n",
       "    .dataframe thead th {\n",
       "        text-align: right;\n",
       "    }\n",
       "</style>\n",
       "<table border=\"1\" class=\"dataframe\">\n",
       "  <thead>\n",
       "    <tr style=\"text-align: right;\">\n",
       "      <th></th>\n",
       "      <th>Unnamed: 0</th>\n",
       "      <th>ds_name</th>\n",
       "      <th>_id</th>\n",
       "      <th>confidence</th>\n",
       "      <th>orig_text</th>\n",
       "      <th>pred_text</th>\n",
       "      <th>font_color</th>\n",
       "      <th>all_mean_edge_colors</th>\n",
       "      <th>cos_similarity</th>\n",
       "    </tr>\n",
       "  </thead>\n",
       "  <tbody>\n",
       "    <tr>\n",
       "      <th>18</th>\n",
       "      <td>18</td>\n",
       "      <td>fb</td>\n",
       "      <td>93215</td>\n",
       "      <td>67.604324</td>\n",
       "      <td>paper is white and paper beats rock</td>\n",
       "      <td>paber fis wate) antl wane eats roe</td>\n",
       "      <td>black</td>\n",
       "      <td>254.767956</td>\n",
       "      <td>0.000000</td>\n",
       "    </tr>\n",
       "    <tr>\n",
       "      <th>20</th>\n",
       "      <td>20</td>\n",
       "      <td>fb</td>\n",
       "      <td>42931</td>\n",
       "      <td>50.405342</td>\n",
       "      <td>when you'res high as fuck and hear a loud soun...</td>\n",
       "      <td>when houtes iitich as fnek syndl rear g lond s...</td>\n",
       "      <td>black</td>\n",
       "      <td>254.764373</td>\n",
       "      <td>19.446112</td>\n",
       "    </tr>\n",
       "    <tr>\n",
       "      <th>28</th>\n",
       "      <td>28</td>\n",
       "      <td>fb</td>\n",
       "      <td>10639</td>\n",
       "      <td>11.099541</td>\n",
       "      <td>now i'm gonna use two fingers</td>\n",
       "      <td>u now fin gonna se two) {fier</td>\n",
       "      <td>black</td>\n",
       "      <td>230.107302</td>\n",
       "      <td>42.857143</td>\n",
       "    </tr>\n",
       "    <tr>\n",
       "      <th>43</th>\n",
       "      <td>43</td>\n",
       "      <td>fb</td>\n",
       "      <td>80241</td>\n",
       "      <td>0.000000</td>\n",
       "      <td>we are no longer a christian nation whatever w...</td>\n",
       "      <td>we are 0.0 loney p enistm maton wtae nm one? w...</td>\n",
       "      <td>black</td>\n",
       "      <td>236.252717</td>\n",
       "      <td>14.547859</td>\n",
       "    </tr>\n",
       "    <tr>\n",
       "      <th>57</th>\n",
       "      <td>57</td>\n",
       "      <td>fb</td>\n",
       "      <td>92308</td>\n",
       "      <td>66.878815</td>\n",
       "      <td>april 15 tax reminder don't forget to pay your...</td>\n",
       "      <td>1s rannindar wnt forget faxes allians are fanny</td>\n",
       "      <td>black</td>\n",
       "      <td>203.252763</td>\n",
       "      <td>15.430335</td>\n",
       "    </tr>\n",
       "    <tr>\n",
       "      <th>...</th>\n",
       "      <td>...</td>\n",
       "      <td>...</td>\n",
       "      <td>...</td>\n",
       "      <td>...</td>\n",
       "      <td>...</td>\n",
       "      <td>...</td>\n",
       "      <td>...</td>\n",
       "      <td>...</td>\n",
       "      <td>...</td>\n",
       "    </tr>\n",
       "    <tr>\n",
       "      <th>884</th>\n",
       "      <td>884</td>\n",
       "      <td>fb</td>\n",
       "      <td>59817</td>\n",
       "      <td>82.389137</td>\n",
       "      <td>putting bows on your pet</td>\n",
       "      <td>dotting ows oll ou pea</td>\n",
       "      <td>black</td>\n",
       "      <td>214.925140</td>\n",
       "      <td>0.000000</td>\n",
       "    </tr>\n",
       "    <tr>\n",
       "      <th>893</th>\n",
       "      <td>893</td>\n",
       "      <td>fb</td>\n",
       "      <td>4361</td>\n",
       "      <td>0.000000</td>\n",
       "      <td>islam turning every single country it touches ...</td>\n",
       "      <td>ks even shwe (oui fit fonenes nto} sinn 10h ov...</td>\n",
       "      <td>black</td>\n",
       "      <td>216.922311</td>\n",
       "      <td>7.715167</td>\n",
       "    </tr>\n",
       "    <tr>\n",
       "      <th>917</th>\n",
       "      <td>917</td>\n",
       "      <td>fb</td>\n",
       "      <td>31097</td>\n",
       "      <td>0.000000</td>\n",
       "      <td>just taking a nap at walmart</td>\n",
       "      <td>just taking allal at walntar</td>\n",
       "      <td>black</td>\n",
       "      <td>226.626568</td>\n",
       "      <td>54.772256</td>\n",
       "    </tr>\n",
       "    <tr>\n",
       "      <th>952</th>\n",
       "      <td>952</td>\n",
       "      <td>fb</td>\n",
       "      <td>38245</td>\n",
       "      <td>17.866371</td>\n",
       "      <td>when you eat your rehab romance booty in the l...</td>\n",
       "      <td>when you gam our rah hoonlangce (dut in {ihe l...</td>\n",
       "      <td>black</td>\n",
       "      <td>215.830494</td>\n",
       "      <td>28.583098</td>\n",
       "    </tr>\n",
       "    <tr>\n",
       "      <th>991</th>\n",
       "      <td>991</td>\n",
       "      <td>fb</td>\n",
       "      <td>14906</td>\n",
       "      <td>95.225433</td>\n",
       "      <td>if you don't want to get raped, just say yes w...</td>\n",
       "      <td>vou mig \\ f a uf § j h i if fi e2, hort sexual...</td>\n",
       "      <td>black</td>\n",
       "      <td>231.246625</td>\n",
       "      <td>3.370999</td>\n",
       "    </tr>\n",
       "  </tbody>\n",
       "</table>\n",
       "<p>86 rows × 9 columns</p>\n",
       "</div>"
      ],
      "text/plain": [
       "     Unnamed: 0 ds_name    _id  confidence  \\\n",
       "18           18      fb  93215   67.604324   \n",
       "20           20      fb  42931   50.405342   \n",
       "28           28      fb  10639   11.099541   \n",
       "43           43      fb  80241    0.000000   \n",
       "57           57      fb  92308   66.878815   \n",
       "..          ...     ...    ...         ...   \n",
       "884         884      fb  59817   82.389137   \n",
       "893         893      fb   4361    0.000000   \n",
       "917         917      fb  31097    0.000000   \n",
       "952         952      fb  38245   17.866371   \n",
       "991         991      fb  14906   95.225433   \n",
       "\n",
       "                                             orig_text  \\\n",
       "18                 paper is white and paper beats rock   \n",
       "20   when you'res high as fuck and hear a loud soun...   \n",
       "28                       now i'm gonna use two fingers   \n",
       "43   we are no longer a christian nation whatever w...   \n",
       "57   april 15 tax reminder don't forget to pay your...   \n",
       "..                                                 ...   \n",
       "884                           putting bows on your pet   \n",
       "893  islam turning every single country it touches ...   \n",
       "917                       just taking a nap at walmart   \n",
       "952  when you eat your rehab romance booty in the l...   \n",
       "991  if you don't want to get raped, just say yes w...   \n",
       "\n",
       "                                             pred_text font_color  \\\n",
       "18                  paber fis wate) antl wane eats roe      black   \n",
       "20   when houtes iitich as fnek syndl rear g lond s...      black   \n",
       "28                       u now fin gonna se two) {fier      black   \n",
       "43   we are 0.0 loney p enistm maton wtae nm one? w...      black   \n",
       "57    1s rannindar wnt forget faxes allians are fanny       black   \n",
       "..                                                 ...        ...   \n",
       "884                             dotting ows oll ou pea      black   \n",
       "893  ks even shwe (oui fit fonenes nto} sinn 10h ov...      black   \n",
       "917                       just taking allal at walntar      black   \n",
       "952  when you gam our rah hoonlangce (dut in {ihe l...      black   \n",
       "991  vou mig \\ f a uf § j h i if fi e2, hort sexual...      black   \n",
       "\n",
       "     all_mean_edge_colors  cos_similarity  \n",
       "18             254.767956        0.000000  \n",
       "20             254.764373       19.446112  \n",
       "28             230.107302       42.857143  \n",
       "43             236.252717       14.547859  \n",
       "57             203.252763       15.430335  \n",
       "..                    ...             ...  \n",
       "884            214.925140        0.000000  \n",
       "893            216.922311        7.715167  \n",
       "917            226.626568       54.772256  \n",
       "952            215.830494       28.583098  \n",
       "991            231.246625        3.370999  \n",
       "\n",
       "[86 rows x 9 columns]"
      ]
     },
     "execution_count": 27,
     "metadata": {},
     "output_type": "execute_result"
    }
   ],
   "source": [
    "fb_without_font[fb_without_font.font_color=='black']"
   ]
  },
  {
   "cell_type": "markdown",
   "id": "3f2a66df-6bfe-48fc-a55a-719cfd66bb31",
   "metadata": {},
   "source": [
    "With Font"
   ]
  },
  {
   "cell_type": "code",
   "execution_count": 9,
   "id": "949937ac-8014-426c-80ef-6240e9a33f8f",
   "metadata": {},
   "outputs": [],
   "source": [
    "df_fb_ocr = pd.read_csv(r'fb_ocr_result.csv')"
   ]
  },
  {
   "cell_type": "code",
   "execution_count": 10,
   "id": "72a8f887-680d-4211-9cc9-0b7a3faa716c",
   "metadata": {},
   "outputs": [],
   "source": [
    "df_fb_ocr = analysis_utility.add_columns_on_df(df_fb_ocr, ['cos_similarity'])"
   ]
  },
  {
   "cell_type": "code",
   "execution_count": 13,
   "id": "dae0b8d9-429d-481d-88b8-dd5310f9ef97",
   "metadata": {},
   "outputs": [
    {
     "data": {
      "text/plain": [
       "58.72765941460299"
      ]
     },
     "execution_count": 13,
     "metadata": {},
     "output_type": "execute_result"
    }
   ],
   "source": [
    "df_fb_ocr.cos_similarity.mean()"
   ]
  },
  {
   "cell_type": "markdown",
   "id": "d3b7ae21-1fbf-478e-8bbc-5df9d206f693",
   "metadata": {},
   "source": [
    "Memotion"
   ]
  },
  {
   "cell_type": "markdown",
   "id": "ff2b0d22-d948-43b6-9f6b-27b4c3b987f7",
   "metadata": {},
   "source": [
    "Without Font"
   ]
  },
  {
   "cell_type": "code",
   "execution_count": 18,
   "id": "44899bb6-cc84-4641-a380-9bcf5797e893",
   "metadata": {},
   "outputs": [],
   "source": [
    "memotion_without_font = pd.read_csv(r'memotion_without_font_color_ocr_result.csv')"
   ]
  },
  {
   "cell_type": "code",
   "execution_count": 19,
   "id": "4249c917-c403-4ff2-aabc-be07ca428d6a",
   "metadata": {},
   "outputs": [],
   "source": [
    "memotion_without_font = analysis_utility.add_columns_on_df(memotion_without_font, ['cos_similarity'])"
   ]
  },
  {
   "cell_type": "code",
   "execution_count": 20,
   "id": "b531afee-dd53-480c-a143-32e6e5c533b1",
   "metadata": {},
   "outputs": [
    {
     "data": {
      "text/plain": [
       "66.0077469471971"
      ]
     },
     "execution_count": 20,
     "metadata": {},
     "output_type": "execute_result"
    }
   ],
   "source": [
    "memotion_without_font.cos_similarity.mean()"
   ]
  },
  {
   "cell_type": "markdown",
   "id": "9eb51d7a-9dae-46d5-b193-5bed375f3417",
   "metadata": {},
   "source": [
    "Memotion"
   ]
  },
  {
   "cell_type": "markdown",
   "id": "d0c9597f-20ab-42a7-bace-84c65df38cb5",
   "metadata": {},
   "source": [
    "With Font"
   ]
  },
  {
   "cell_type": "code",
   "execution_count": 21,
   "id": "428fb494-650b-46cc-9452-907fc7c93afc",
   "metadata": {},
   "outputs": [],
   "source": [
    "memotion_with_font = pd.read_csv(r'memotion_ocr_result.csv')"
   ]
  },
  {
   "cell_type": "code",
   "execution_count": 22,
   "id": "46ba522b-4964-4af8-a389-f99bec53886a",
   "metadata": {},
   "outputs": [],
   "source": [
    "memotion_with_font = analysis_utility.add_columns_on_df(memotion_with_font, ['cos_similarity'])"
   ]
  },
  {
   "cell_type": "code",
   "execution_count": 23,
   "id": "f7afdaea-2f56-4d44-8398-fcf7cce5cb29",
   "metadata": {},
   "outputs": [
    {
     "data": {
      "text/plain": [
       "70.30312757406477"
      ]
     },
     "execution_count": 23,
     "metadata": {},
     "output_type": "execute_result"
    }
   ],
   "source": [
    "memotion_with_font.cos_similarity.mean()"
   ]
  },
  {
   "cell_type": "code",
   "execution_count": null,
   "id": "ac4278cd-7954-498a-b41d-638e64fc1330",
   "metadata": {},
   "outputs": [],
   "source": []
  }
 ],
 "metadata": {
  "kernelspec": {
   "display_name": "Python 3",
   "language": "python",
   "name": "python3"
  },
  "language_info": {
   "codemirror_mode": {
    "name": "ipython",
    "version": 3
   },
   "file_extension": ".py",
   "mimetype": "text/x-python",
   "name": "python",
   "nbconvert_exporter": "python",
   "pygments_lexer": "ipython3",
   "version": "3.8.11"
  }
 },
 "nbformat": 4,
 "nbformat_minor": 5
}
