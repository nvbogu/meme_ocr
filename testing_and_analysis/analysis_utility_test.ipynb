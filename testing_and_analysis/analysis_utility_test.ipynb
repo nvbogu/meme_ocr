{
 "cells": [
  {
   "cell_type": "code",
   "execution_count": 1,
   "id": "7bcdb318-1f78-4050-81f0-1768f3e1946b",
   "metadata": {},
   "outputs": [],
   "source": [
    "import analysis_utility"
   ]
  },
  {
   "cell_type": "code",
   "execution_count": 2,
   "id": "5b2a0896-9329-40f3-b992-bb98394e73c5",
   "metadata": {},
   "outputs": [
    {
     "data": {
      "text/plain": [
       "('when touts fealhg oki asi dm our rratninni is on defias iets ry agoa',\n",
       " 44.118088)"
      ]
     },
     "execution_count": 2,
     "metadata": {},
     "output_type": "execute_result"
    }
   ],
   "source": [
    "path = r'data\\data_fb\\img\\01235.png'\n",
    "analysis_utility.do_ocr(path)"
   ]
  },
  {
   "cell_type": "code",
   "execution_count": 3,
   "id": "a4d3f074-26cc-45d5-a377-4d2c94741486",
   "metadata": {},
   "outputs": [
    {
     "data": {
      "text/plain": [
       "('the awkward moment when you have to pose with the whitest news reporter alive after your: nom whooped your ass on national television',\n",
       " 87.543709)"
      ]
     },
     "execution_count": 3,
     "metadata": {},
     "output_type": "execute_result"
    }
   ],
   "source": [
    "path = r'data/data_kaggle/memes/memes/34fi1c.png'\n",
    "analysis_utility.do_ocr(path)"
   ]
  },
  {
   "cell_type": "code",
   "execution_count": 4,
   "id": "5c6858ea-881d-404c-91c9-b39705795ec6",
   "metadata": {},
   "outputs": [
    {
     "data": {
      "text/plain": [
       "('', 100)"
      ]
     },
     "execution_count": 4,
     "metadata": {},
     "output_type": "execute_result"
    }
   ],
   "source": [
    "path = r'non_memes/450px-Brookfield_zoo_fg06.jpg'\n",
    "analysis_utility.do_ocr(path)"
   ]
  },
  {
   "cell_type": "code",
   "execution_count": null,
   "id": "482d826e-27cd-402e-aa3d-4c440717aa78",
   "metadata": {},
   "outputs": [],
   "source": []
  }
 ],
 "metadata": {
  "kernelspec": {
   "display_name": "Python 3",
   "language": "python",
   "name": "python3"
  },
  "language_info": {
   "codemirror_mode": {
    "name": "ipython",
    "version": 3
   },
   "file_extension": ".py",
   "mimetype": "text/x-python",
   "name": "python",
   "nbconvert_exporter": "python",
   "pygments_lexer": "ipython3",
   "version": "3.8.11"
  }
 },
 "nbformat": 4,
 "nbformat_minor": 5
}
