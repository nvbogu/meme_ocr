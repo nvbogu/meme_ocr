{
 "cells": [
  {
   "cell_type": "code",
   "execution_count": 1,
   "id": "b0d86e08-c695-4919-88f6-e55d87ecbbf0",
   "metadata": {},
   "outputs": [],
   "source": [
    "import pandas as pd\n",
    "import analysis_utility\n",
    "import text_scene_detection_utility\n",
    "%matplotlib inline"
   ]
  },
  {
   "cell_type": "markdown",
   "id": "8683e3cb-abf8-4a61-ab30-a82d3e875ec3",
   "metadata": {
    "tags": []
   },
   "source": [
    "### OCR-Test on Memotion Data"
   ]
  },
  {
   "cell_type": "code",
   "execution_count": 2,
   "id": "33154ec8-289e-47fe-859b-d0992c16e6e6",
   "metadata": {},
   "outputs": [
    {
     "data": {
      "text/html": [
       "<div>\n",
       "<style scoped>\n",
       "    .dataframe tbody tr th:only-of-type {\n",
       "        vertical-align: middle;\n",
       "    }\n",
       "\n",
       "    .dataframe tbody tr th {\n",
       "        vertical-align: top;\n",
       "    }\n",
       "\n",
       "    .dataframe thead th {\n",
       "        text-align: right;\n",
       "    }\n",
       "</style>\n",
       "<table border=\"1\" class=\"dataframe\">\n",
       "  <thead>\n",
       "    <tr style=\"text-align: right;\">\n",
       "      <th></th>\n",
       "      <th>image_name</th>\n",
       "      <th>text_ocr</th>\n",
       "      <th>text_corrected</th>\n",
       "      <th>humour</th>\n",
       "      <th>sarcasm</th>\n",
       "      <th>offensive</th>\n",
       "      <th>motivational</th>\n",
       "      <th>overall_sentiment</th>\n",
       "    </tr>\n",
       "  </thead>\n",
       "  <tbody>\n",
       "    <tr>\n",
       "      <th>0</th>\n",
       "      <td>image_1.jpg</td>\n",
       "      <td>LOOK THERE MY FRIEND LIGHTYEAR NOW ALL SOHALIK...</td>\n",
       "      <td>LOOK THERE MY FRIEND LIGHTYEAR NOW ALL SOHALIK...</td>\n",
       "      <td>hilarious</td>\n",
       "      <td>general</td>\n",
       "      <td>not_offensive</td>\n",
       "      <td>not_motivational</td>\n",
       "      <td>very_positive</td>\n",
       "    </tr>\n",
       "  </tbody>\n",
       "</table>\n",
       "</div>"
      ],
      "text/plain": [
       "    image_name                                           text_ocr  \\\n",
       "0  image_1.jpg  LOOK THERE MY FRIEND LIGHTYEAR NOW ALL SOHALIK...   \n",
       "\n",
       "                                      text_corrected     humour  sarcasm  \\\n",
       "0  LOOK THERE MY FRIEND LIGHTYEAR NOW ALL SOHALIK...  hilarious  general   \n",
       "\n",
       "       offensive      motivational overall_sentiment  \n",
       "0  not_offensive  not_motivational     very_positive  "
      ]
     },
     "execution_count": 2,
     "metadata": {},
     "output_type": "execute_result"
    }
   ],
   "source": [
    "train_path = r'data\\memotion_dataset\\memotion_dataset_7k/labels.csv'\n",
    "train_df = pd.read_csv(train_path, index_col=0)\n",
    "train_df.head(1)"
   ]
  },
  {
   "cell_type": "markdown",
   "id": "ad3340c6-40ce-4b20-b3b9-353ebe5de317",
   "metadata": {},
   "source": [
    "#### get a random sample"
   ]
  },
  {
   "cell_type": "code",
   "execution_count": 3,
   "id": "480f19c9-792f-4051-8840-a2f098f31aec",
   "metadata": {},
   "outputs": [],
   "source": [
    "train_df = train_df.sample(n=1000, random_state=11)"
   ]
  },
  {
   "cell_type": "code",
   "execution_count": 4,
   "id": "f7c61c12-b907-4172-a791-fdab55b0bc48",
   "metadata": {},
   "outputs": [
    {
     "data": {
      "text/html": [
       "<div>\n",
       "<style scoped>\n",
       "    .dataframe tbody tr th:only-of-type {\n",
       "        vertical-align: middle;\n",
       "    }\n",
       "\n",
       "    .dataframe tbody tr th {\n",
       "        vertical-align: top;\n",
       "    }\n",
       "\n",
       "    .dataframe thead th {\n",
       "        text-align: right;\n",
       "    }\n",
       "</style>\n",
       "<table border=\"1\" class=\"dataframe\">\n",
       "  <thead>\n",
       "    <tr style=\"text-align: right;\">\n",
       "      <th></th>\n",
       "      <th>image_name</th>\n",
       "      <th>text_ocr</th>\n",
       "      <th>text_corrected</th>\n",
       "      <th>humour</th>\n",
       "      <th>sarcasm</th>\n",
       "      <th>offensive</th>\n",
       "      <th>motivational</th>\n",
       "      <th>overall_sentiment</th>\n",
       "    </tr>\n",
       "  </thead>\n",
       "  <tbody>\n",
       "    <tr>\n",
       "      <th>152</th>\n",
       "      <td>image_153.png</td>\n",
       "      <td>BEST OF BARNEY I only have one rule. Never scr...</td>\n",
       "      <td>BEST OF BARNEY I only have one rule. Never scr...</td>\n",
       "      <td>very_funny</td>\n",
       "      <td>general</td>\n",
       "      <td>very_offensive</td>\n",
       "      <td>motivational</td>\n",
       "      <td>positive</td>\n",
       "    </tr>\n",
       "  </tbody>\n",
       "</table>\n",
       "</div>"
      ],
      "text/plain": [
       "        image_name                                           text_ocr  \\\n",
       "152  image_153.png  BEST OF BARNEY I only have one rule. Never scr...   \n",
       "\n",
       "                                        text_corrected      humour  sarcasm  \\\n",
       "152  BEST OF BARNEY I only have one rule. Never scr...  very_funny  general   \n",
       "\n",
       "          offensive  motivational overall_sentiment  \n",
       "152  very_offensive  motivational          positive  "
      ]
     },
     "execution_count": 4,
     "metadata": {},
     "output_type": "execute_result"
    }
   ],
   "source": [
    "train_df.head(1)"
   ]
  },
  {
   "cell_type": "markdown",
   "id": "0bda0ced-5873-42bc-bbc1-92667966a043",
   "metadata": {},
   "source": [
    "#### perform OCR on df"
   ]
  },
  {
   "cell_type": "code",
   "execution_count": 5,
   "id": "743ddfe8-11c0-4065-82b7-6affbc35efd5",
   "metadata": {},
   "outputs": [
    {
     "data": {
      "text/plain": [
       "999"
      ]
     },
     "metadata": {},
     "output_type": "display_data"
    }
   ],
   "source": [
    "df_result = analysis_utility.ocr_on_df(df=train_df, ds_name='memotion', path='data/memotion_dataset\\memotion_dataset_7k/images/', img_format='jpg')"
   ]
  },
  {
   "cell_type": "code",
   "execution_count": 6,
   "id": "aac1884d-bd82-4e08-a8b2-71c9b5f7e483",
   "metadata": {},
   "outputs": [],
   "source": [
    "df_result.to_csv('memotion_without_font_color_ocr_result.csv')"
   ]
  },
  {
   "cell_type": "markdown",
   "id": "bac1531e-072f-414b-8447-85aa0a25dfd8",
   "metadata": {},
   "source": [
    "#### add KPIs on df"
   ]
  },
  {
   "cell_type": "code",
   "execution_count": 7,
   "id": "b5d3b1ef-52ff-4b38-8665-bdc375e98428",
   "metadata": {},
   "outputs": [],
   "source": [
    "df_result = analysis_utility.add_columns_on_df(df_result, ['cos_similarity'])"
   ]
  },
  {
   "cell_type": "code",
   "execution_count": 8,
   "id": "52402c89-5ae4-4f5f-8ff6-fce107d211fc",
   "metadata": {},
   "outputs": [
    {
     "data": {
      "text/plain": [
       "60.394573993987976"
      ]
     },
     "execution_count": 8,
     "metadata": {},
     "output_type": "execute_result"
    }
   ],
   "source": [
    "df_result.confidence.mean()"
   ]
  },
  {
   "cell_type": "code",
   "execution_count": 9,
   "id": "e7716eda-39b3-4978-9d68-ee4e46b59a39",
   "metadata": {},
   "outputs": [
    {
     "data": {
      "text/plain": [
       "66.0077469471971"
      ]
     },
     "execution_count": 9,
     "metadata": {},
     "output_type": "execute_result"
    }
   ],
   "source": [
    "df_result.cos_similarity.mean()"
   ]
  },
  {
   "cell_type": "code",
   "execution_count": 10,
   "id": "2c520451-7c01-4ebe-aa6a-6d1511cee2e9",
   "metadata": {},
   "outputs": [
    {
     "data": {
      "text/html": [
       "<div>\n",
       "<style scoped>\n",
       "    .dataframe tbody tr th:only-of-type {\n",
       "        vertical-align: middle;\n",
       "    }\n",
       "\n",
       "    .dataframe tbody tr th {\n",
       "        vertical-align: top;\n",
       "    }\n",
       "\n",
       "    .dataframe thead th {\n",
       "        text-align: right;\n",
       "    }\n",
       "</style>\n",
       "<table border=\"1\" class=\"dataframe\">\n",
       "  <thead>\n",
       "    <tr style=\"text-align: right;\">\n",
       "      <th></th>\n",
       "      <th>ds_name</th>\n",
       "      <th>_id</th>\n",
       "      <th>confidence</th>\n",
       "      <th>orig_text</th>\n",
       "      <th>pred_text</th>\n",
       "      <th>font_color</th>\n",
       "      <th>all_mean_edge_colors</th>\n",
       "      <th>cos_similarity</th>\n",
       "    </tr>\n",
       "  </thead>\n",
       "  <tbody>\n",
       "    <tr>\n",
       "      <th>0</th>\n",
       "      <td>memotion</td>\n",
       "      <td>image_153</td>\n",
       "      <td>8.109093</td>\n",
       "      <td>best of barney i only have one rule. never scr...</td>\n",
       "      <td>best. of barney — oe on eo</td>\n",
       "      <td>white</td>\n",
       "      <td>47.836880</td>\n",
       "      <td>30.618622</td>\n",
       "    </tr>\n",
       "    <tr>\n",
       "      <th>1</th>\n",
       "      <td>memotion</td>\n",
       "      <td>image_6326</td>\n",
       "      <td>94.772041</td>\n",
       "      <td>oh. so you think willy wonka can be condescend...</td>\n",
       "      <td>oh. so you think why wonka can be condescendin...</td>\n",
       "      <td>white</td>\n",
       "      <td>84.055865</td>\n",
       "      <td>75.000000</td>\n",
       "    </tr>\n",
       "    <tr>\n",
       "      <th>2</th>\n",
       "      <td>memotion</td>\n",
       "      <td>image_173</td>\n",
       "      <td>0.000000</td>\n",
       "      <td>brazzers logo is the same as the mr. bean meme...</td>\n",
       "      <td>brazzers logo is the same the bean meme. o</td>\n",
       "      <td>white</td>\n",
       "      <td>48.814365</td>\n",
       "      <td>87.038828</td>\n",
       "    </tr>\n",
       "    <tr>\n",
       "      <th>3</th>\n",
       "      <td>memotion</td>\n",
       "      <td>image_2002</td>\n",
       "      <td>0.000000</td>\n",
       "      <td>if hillary will pay me 50k i'll post pro hilla...</td>\n",
       "      <td>if hillary will pay me 50k kb post pro hillary...</td>\n",
       "      <td>white</td>\n",
       "      <td>117.959570</td>\n",
       "      <td>61.339562</td>\n",
       "    </tr>\n",
       "    <tr>\n",
       "      <th>4</th>\n",
       "      <td>memotion</td>\n",
       "      <td>image_1513</td>\n",
       "      <td>0.000000</td>\n",
       "      <td>when he keep telling you  you're not his girlf...</td>\n",
       "      <td>when he keep iczilitare] you, you're fave) ac ...</td>\n",
       "      <td>black</td>\n",
       "      <td>250.373082</td>\n",
       "      <td>78.947368</td>\n",
       "    </tr>\n",
       "    <tr>\n",
       "      <th>...</th>\n",
       "      <td>...</td>\n",
       "      <td>...</td>\n",
       "      <td>...</td>\n",
       "      <td>...</td>\n",
       "      <td>...</td>\n",
       "      <td>...</td>\n",
       "      <td>...</td>\n",
       "      <td>...</td>\n",
       "    </tr>\n",
       "    <tr>\n",
       "      <th>993</th>\n",
       "      <td>memotion</td>\n",
       "      <td>image_4194</td>\n",
       "      <td>0.000000</td>\n",
       "      <td>told a bitch to spell orange and she asked \" t...</td>\n",
       "      <td>told f2) bitch to spell orange lately she aske...</td>\n",
       "      <td>black</td>\n",
       "      <td>244.060156</td>\n",
       "      <td>81.250000</td>\n",
       "    </tr>\n",
       "    <tr>\n",
       "      <th>994</th>\n",
       "      <td>memotion</td>\n",
       "      <td>image_6000</td>\n",
       "      <td>96.546745</td>\n",
       "      <td>this is bill. bill likes to use omegle in his ...</td>\n",
       "      <td>this is bill omeglein his free bill show his p...</td>\n",
       "      <td>black</td>\n",
       "      <td>254.647994</td>\n",
       "      <td>74.077853</td>\n",
       "    </tr>\n",
       "    <tr>\n",
       "      <th>995</th>\n",
       "      <td>memotion</td>\n",
       "      <td>image_5105</td>\n",
       "      <td>94.825706</td>\n",
       "      <td>us intelligence images of how hitler could hav...</td>\n",
       "      <td>us ftalcailret=raress images of how hitler foe...</td>\n",
       "      <td>black</td>\n",
       "      <td>252.139262</td>\n",
       "      <td>71.004695</td>\n",
       "    </tr>\n",
       "    <tr>\n",
       "      <th>996</th>\n",
       "      <td>memotion</td>\n",
       "      <td>image_3093</td>\n",
       "      <td>0.000000</td>\n",
       "      <td>when your younger sibling asks why you never l...</td>\n",
       "      <td>tite your younger sibling asks why you never l...</td>\n",
       "      <td>black</td>\n",
       "      <td>200.692654</td>\n",
       "      <td>58.268563</td>\n",
       "    </tr>\n",
       "    <tr>\n",
       "      <th>997</th>\n",
       "      <td>memotion</td>\n",
       "      <td>image_152</td>\n",
       "      <td>0.000000</td>\n",
       "      <td>a lie is just a great story that someone ruine...</td>\n",
       "      <td>_ a 7.0 an a a oo oo a o</td>\n",
       "      <td>white</td>\n",
       "      <td>122.290560</td>\n",
       "      <td>38.805700</td>\n",
       "    </tr>\n",
       "  </tbody>\n",
       "</table>\n",
       "<p>998 rows × 8 columns</p>\n",
       "</div>"
      ],
      "text/plain": [
       "      ds_name         _id  confidence  \\\n",
       "0    memotion   image_153    8.109093   \n",
       "1    memotion  image_6326   94.772041   \n",
       "2    memotion   image_173    0.000000   \n",
       "3    memotion  image_2002    0.000000   \n",
       "4    memotion  image_1513    0.000000   \n",
       "..        ...         ...         ...   \n",
       "993  memotion  image_4194    0.000000   \n",
       "994  memotion  image_6000   96.546745   \n",
       "995  memotion  image_5105   94.825706   \n",
       "996  memotion  image_3093    0.000000   \n",
       "997  memotion   image_152    0.000000   \n",
       "\n",
       "                                             orig_text  \\\n",
       "0    best of barney i only have one rule. never scr...   \n",
       "1    oh. so you think willy wonka can be condescend...   \n",
       "2    brazzers logo is the same as the mr. bean meme...   \n",
       "3    if hillary will pay me 50k i'll post pro hilla...   \n",
       "4    when he keep telling you  you're not his girlf...   \n",
       "..                                                 ...   \n",
       "993  told a bitch to spell orange and she asked \" t...   \n",
       "994  this is bill. bill likes to use omegle in his ...   \n",
       "995  us intelligence images of how hitler could hav...   \n",
       "996  when your younger sibling asks why you never l...   \n",
       "997  a lie is just a great story that someone ruine...   \n",
       "\n",
       "                                             pred_text font_color  \\\n",
       "0                          best. of barney — oe on eo       white   \n",
       "1    oh. so you think why wonka can be condescendin...      white   \n",
       "2           brazzers logo is the same the bean meme. o      white   \n",
       "3    if hillary will pay me 50k kb post pro hillary...      white   \n",
       "4    when he keep iczilitare] you, you're fave) ac ...      black   \n",
       "..                                                 ...        ...   \n",
       "993  told f2) bitch to spell orange lately she aske...      black   \n",
       "994  this is bill omeglein his free bill show his p...      black   \n",
       "995  us ftalcailret=raress images of how hitler foe...      black   \n",
       "996  tite your younger sibling asks why you never l...      black   \n",
       "997                           _ a 7.0 an a a oo oo a o      white   \n",
       "\n",
       "     all_mean_edge_colors  cos_similarity  \n",
       "0               47.836880       30.618622  \n",
       "1               84.055865       75.000000  \n",
       "2               48.814365       87.038828  \n",
       "3              117.959570       61.339562  \n",
       "4              250.373082       78.947368  \n",
       "..                    ...             ...  \n",
       "993            244.060156       81.250000  \n",
       "994            254.647994       74.077853  \n",
       "995            252.139262       71.004695  \n",
       "996            200.692654       58.268563  \n",
       "997            122.290560       38.805700  \n",
       "\n",
       "[998 rows x 8 columns]"
      ]
     },
     "execution_count": 10,
     "metadata": {},
     "output_type": "execute_result"
    }
   ],
   "source": [
    "df_result"
   ]
  },
  {
   "cell_type": "code",
   "execution_count": 11,
   "id": "91ab2e62-1ea3-4649-a164-69d8ce497b18",
   "metadata": {},
   "outputs": [
    {
     "data": {
      "text/plain": [
       "<AxesSubplot:>"
      ]
     },
     "execution_count": 11,
     "metadata": {},
     "output_type": "execute_result"
    },
    {
     "data": {
      "image/png": "[encoded data removed]",
      "text/plain": [
       "<Figure size 432x288 with 1 Axes>"
      ]
     },
     "metadata": {
      "needs_background": "light"
     },
     "output_type": "display_data"
    }
   ],
   "source": [
    "df_result[['cos_similarity', 'confidence']].sort_values(by='cos_similarity', ascending=False).reset_index(drop=True).plot(kind='line')"
   ]
  },
  {
   "cell_type": "code",
   "execution_count": null,
   "id": "06ed15f6-bec6-4620-a408-0d4278e57166",
   "metadata": {},
   "outputs": [],
   "source": []
  },
  {
   "cell_type": "code",
   "execution_count": null,
   "id": "f38cef50-4358-4bcb-a8e0-c88a4a51614f",
   "metadata": {},
   "outputs": [],
   "source": []
  }
 ],
 "metadata": {
  "kernelspec": {
   "display_name": "Python 3",
   "language": "python",
   "name": "python3"
  },
  "language_info": {
   "codemirror_mode": {
    "name": "ipython",
    "version": 3
   },
   "file_extension": ".py",
   "mimetype": "text/x-python",
   "name": "python",
   "nbconvert_exporter": "python",
   "pygments_lexer": "ipython3",
   "version": "3.8.11"
  }
 },
 "nbformat": 4,
 "nbformat_minor": 5
}
