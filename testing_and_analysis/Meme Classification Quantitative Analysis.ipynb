{
 "cells": [
  {
   "cell_type": "code",
   "execution_count": 8,
   "id": "9ba199b8-97f2-4bbe-8dcd-2d5e308a2d3c",
   "metadata": {},
   "outputs": [],
   "source": [
    "import pandas as pd\n",
    "%matplotlib inline"
   ]
  },
  {
   "cell_type": "code",
   "execution_count": 9,
   "id": "54fca8ea-5703-4b7a-848c-05f34bbc0811",
   "metadata": {},
   "outputs": [],
   "source": [
    "df = pd.read_csv('E:\\github\\meme_classification\\df_scores_base.csv', index_col=0)"
   ]
  },
  {
   "cell_type": "code",
   "execution_count": 10,
   "id": "89894d2c-4d0c-4d8c-a4ee-6c45687c2188",
   "metadata": {},
   "outputs": [
    {
     "data": {
      "text/html": [
       "<div>\n",
       "<style scoped>\n",
       "    .dataframe tbody tr th:only-of-type {\n",
       "        vertical-align: middle;\n",
       "    }\n",
       "\n",
       "    .dataframe tbody tr th {\n",
       "        vertical-align: top;\n",
       "    }\n",
       "\n",
       "    .dataframe thead th {\n",
       "        text-align: right;\n",
       "    }\n",
       "</style>\n",
       "<table border=\"1\" class=\"dataframe\">\n",
       "  <thead>\n",
       "    <tr style=\"text-align: right;\">\n",
       "      <th></th>\n",
       "      <th>epoch</th>\n",
       "      <th>loss</th>\n",
       "      <th>tp</th>\n",
       "      <th>fp</th>\n",
       "      <th>tn</th>\n",
       "      <th>fn</th>\n",
       "      <th>accuracy</th>\n",
       "      <th>precision</th>\n",
       "      <th>recall</th>\n",
       "      <th>auc</th>\n",
       "      <th>val_loss</th>\n",
       "      <th>val_tp</th>\n",
       "      <th>val_fp</th>\n",
       "      <th>val_tn</th>\n",
       "      <th>val_fn</th>\n",
       "      <th>val_accuracy</th>\n",
       "      <th>val_precision</th>\n",
       "      <th>val_recall</th>\n",
       "      <th>val_auc</th>\n",
       "      <th>time</th>\n",
       "    </tr>\n",
       "  </thead>\n",
       "  <tbody>\n",
       "    <tr>\n",
       "      <th>0</th>\n",
       "      <td>0</td>\n",
       "      <td>0.244475</td>\n",
       "      <td>3592.0</td>\n",
       "      <td>97.0</td>\n",
       "      <td>3872.0</td>\n",
       "      <td>439.0</td>\n",
       "      <td>0.933000</td>\n",
       "      <td>0.973706</td>\n",
       "      <td>0.891094</td>\n",
       "      <td>0.990013</td>\n",
       "      <td>0.106141</td>\n",
       "      <td>957.0</td>\n",
       "      <td>15.0</td>\n",
       "      <td>1016.0</td>\n",
       "      <td>12.0</td>\n",
       "      <td>0.9865</td>\n",
       "      <td>0.984568</td>\n",
       "      <td>0.987616</td>\n",
       "      <td>0.998806</td>\n",
       "      <td>1282.776170</td>\n",
       "    </tr>\n",
       "    <tr>\n",
       "      <th>1</th>\n",
       "      <td>1</td>\n",
       "      <td>0.090975</td>\n",
       "      <td>3951.0</td>\n",
       "      <td>60.0</td>\n",
       "      <td>3909.0</td>\n",
       "      <td>80.0</td>\n",
       "      <td>0.982500</td>\n",
       "      <td>0.985041</td>\n",
       "      <td>0.980154</td>\n",
       "      <td>0.998179</td>\n",
       "      <td>0.058351</td>\n",
       "      <td>961.0</td>\n",
       "      <td>10.0</td>\n",
       "      <td>1021.0</td>\n",
       "      <td>8.0</td>\n",
       "      <td>0.9910</td>\n",
       "      <td>0.989701</td>\n",
       "      <td>0.991744</td>\n",
       "      <td>0.999622</td>\n",
       "      <td>1258.562458</td>\n",
       "    </tr>\n",
       "    <tr>\n",
       "      <th>2</th>\n",
       "      <td>2</td>\n",
       "      <td>0.062288</td>\n",
       "      <td>3974.0</td>\n",
       "      <td>64.0</td>\n",
       "      <td>3905.0</td>\n",
       "      <td>57.0</td>\n",
       "      <td>0.984875</td>\n",
       "      <td>0.984151</td>\n",
       "      <td>0.985860</td>\n",
       "      <td>0.998960</td>\n",
       "      <td>0.042516</td>\n",
       "      <td>961.0</td>\n",
       "      <td>11.0</td>\n",
       "      <td>1020.0</td>\n",
       "      <td>8.0</td>\n",
       "      <td>0.9905</td>\n",
       "      <td>0.988683</td>\n",
       "      <td>0.991744</td>\n",
       "      <td>0.999794</td>\n",
       "      <td>1234.843171</td>\n",
       "    </tr>\n",
       "    <tr>\n",
       "      <th>3</th>\n",
       "      <td>3</td>\n",
       "      <td>0.048204</td>\n",
       "      <td>3984.0</td>\n",
       "      <td>50.0</td>\n",
       "      <td>3919.0</td>\n",
       "      <td>47.0</td>\n",
       "      <td>0.987875</td>\n",
       "      <td>0.987605</td>\n",
       "      <td>0.988340</td>\n",
       "      <td>0.999411</td>\n",
       "      <td>0.034795</td>\n",
       "      <td>963.0</td>\n",
       "      <td>10.0</td>\n",
       "      <td>1021.0</td>\n",
       "      <td>6.0</td>\n",
       "      <td>0.9920</td>\n",
       "      <td>0.989722</td>\n",
       "      <td>0.993808</td>\n",
       "      <td>0.999834</td>\n",
       "      <td>1260.194529</td>\n",
       "    </tr>\n",
       "    <tr>\n",
       "      <th>4</th>\n",
       "      <td>4</td>\n",
       "      <td>0.040923</td>\n",
       "      <td>3989.0</td>\n",
       "      <td>48.0</td>\n",
       "      <td>3921.0</td>\n",
       "      <td>42.0</td>\n",
       "      <td>0.988750</td>\n",
       "      <td>0.988110</td>\n",
       "      <td>0.989581</td>\n",
       "      <td>0.999481</td>\n",
       "      <td>0.029318</td>\n",
       "      <td>962.0</td>\n",
       "      <td>8.0</td>\n",
       "      <td>1023.0</td>\n",
       "      <td>7.0</td>\n",
       "      <td>0.9925</td>\n",
       "      <td>0.991753</td>\n",
       "      <td>0.992776</td>\n",
       "      <td>0.999871</td>\n",
       "      <td>1265.858961</td>\n",
       "    </tr>\n",
       "  </tbody>\n",
       "</table>\n",
       "</div>"
      ],
      "text/plain": [
       "   epoch      loss      tp    fp      tn     fn  accuracy  precision  \\\n",
       "0      0  0.244475  3592.0  97.0  3872.0  439.0  0.933000   0.973706   \n",
       "1      1  0.090975  3951.0  60.0  3909.0   80.0  0.982500   0.985041   \n",
       "2      2  0.062288  3974.0  64.0  3905.0   57.0  0.984875   0.984151   \n",
       "3      3  0.048204  3984.0  50.0  3919.0   47.0  0.987875   0.987605   \n",
       "4      4  0.040923  3989.0  48.0  3921.0   42.0  0.988750   0.988110   \n",
       "\n",
       "     recall       auc  val_loss  val_tp  val_fp  val_tn  val_fn  val_accuracy  \\\n",
       "0  0.891094  0.990013  0.106141   957.0    15.0  1016.0    12.0        0.9865   \n",
       "1  0.980154  0.998179  0.058351   961.0    10.0  1021.0     8.0        0.9910   \n",
       "2  0.985860  0.998960  0.042516   961.0    11.0  1020.0     8.0        0.9905   \n",
       "3  0.988340  0.999411  0.034795   963.0    10.0  1021.0     6.0        0.9920   \n",
       "4  0.989581  0.999481  0.029318   962.0     8.0  1023.0     7.0        0.9925   \n",
       "\n",
       "   val_precision  val_recall   val_auc         time  \n",
       "0       0.984568    0.987616  0.998806  1282.776170  \n",
       "1       0.989701    0.991744  0.999622  1258.562458  \n",
       "2       0.988683    0.991744  0.999794  1234.843171  \n",
       "3       0.989722    0.993808  0.999834  1260.194529  \n",
       "4       0.991753    0.992776  0.999871  1265.858961  "
      ]
     },
     "execution_count": 10,
     "metadata": {},
     "output_type": "execute_result"
    }
   ],
   "source": [
    "df"
   ]
  },
  {
   "cell_type": "code",
   "execution_count": 14,
   "id": "a71c8d31-3b50-4012-8a2d-1a02a7f9929b",
   "metadata": {},
   "outputs": [
    {
     "data": {
      "text/plain": [
       "<AxesSubplot:title={'center':'Loss per epoch'}, xlabel='epoch'>"
      ]
     },
     "execution_count": 14,
     "metadata": {},
     "output_type": "execute_result"
    },
    {
     "data": {
      "image/png": "[encoded data removed]",
      "text/plain": [
       "<Figure size 432x288 with 1 Axes>"
      ]
     },
     "metadata": {
      "needs_background": "light"
     },
     "output_type": "display_data"
    }
   ],
   "source": [
    "df[['epoch', 'loss']].plot(kind='bar', x='epoch', title='Loss per epoch')"
   ]
  },
  {
   "cell_type": "code",
   "execution_count": null,
   "id": "ebf687b5-7f0a-477e-bde7-ed892d4ccbf5",
   "metadata": {},
   "outputs": [],
   "source": []
  }
 ],
 "metadata": {
  "kernelspec": {
   "display_name": "Python 3",
   "language": "python",
   "name": "python3"
  },
  "language_info": {
   "codemirror_mode": {
    "name": "ipython",
    "version": 3
   },
   "file_extension": ".py",
   "mimetype": "text/x-python",
   "name": "python",
   "nbconvert_exporter": "python",
   "pygments_lexer": "ipython3",
   "version": "3.8.11"
  }
 },
 "nbformat": 4,
 "nbformat_minor": 5
}
