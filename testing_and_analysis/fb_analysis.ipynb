{
 "cells": [
  {
   "cell_type": "code",
   "execution_count": 1,
   "id": "b0d86e08-c695-4919-88f6-e55d87ecbbf0",
   "metadata": {
    "tags": []
   },
   "outputs": [],
   "source": [
    "import pandas as pd\n",
    "import analysis_utility\n",
    "import text_scene_detection_utility\n",
    "%matplotlib inline"
   ]
  },
  {
   "cell_type": "markdown",
   "id": "8683e3cb-abf8-4a61-ab30-a82d3e875ec3",
   "metadata": {
    "tags": []
   },
   "source": [
    "### OCR-Test on FB Data"
   ]
  },
  {
   "cell_type": "code",
   "execution_count": 2,
   "id": "33154ec8-289e-47fe-859b-d0992c16e6e6",
   "metadata": {},
   "outputs": [
    {
     "data": {
      "text/html": [
       "<div>\n",
       "<style scoped>\n",
       "    .dataframe tbody tr th:only-of-type {\n",
       "        vertical-align: middle;\n",
       "    }\n",
       "\n",
       "    .dataframe tbody tr th {\n",
       "        vertical-align: top;\n",
       "    }\n",
       "\n",
       "    .dataframe thead th {\n",
       "        text-align: right;\n",
       "    }\n",
       "</style>\n",
       "<table border=\"1\" class=\"dataframe\">\n",
       "  <thead>\n",
       "    <tr style=\"text-align: right;\">\n",
       "      <th></th>\n",
       "      <th>id</th>\n",
       "      <th>img</th>\n",
       "      <th>label</th>\n",
       "      <th>text</th>\n",
       "    </tr>\n",
       "  </thead>\n",
       "  <tbody>\n",
       "    <tr>\n",
       "      <th>0</th>\n",
       "      <td>42953</td>\n",
       "      <td>img/42953.png</td>\n",
       "      <td>0</td>\n",
       "      <td>its their character not their color that matters</td>\n",
       "    </tr>\n",
       "  </tbody>\n",
       "</table>\n",
       "</div>"
      ],
      "text/plain": [
       "      id            img  label  \\\n",
       "0  42953  img/42953.png      0   \n",
       "\n",
       "                                               text  \n",
       "0  its their character not their color that matters  "
      ]
     },
     "execution_count": 2,
     "metadata": {},
     "output_type": "execute_result"
    }
   ],
   "source": [
    "train_path = r'data\\data_fb/train.jsonl'\n",
    "train_df = pd.read_json(train_path, lines=True)\n",
    "train_df.head(1)"
   ]
  },
  {
   "cell_type": "markdown",
   "id": "ad3340c6-40ce-4b20-b3b9-353ebe5de317",
   "metadata": {},
   "source": [
    "#### get a random sample"
   ]
  },
  {
   "cell_type": "code",
   "execution_count": 3,
   "id": "480f19c9-792f-4051-8840-a2f098f31aec",
   "metadata": {},
   "outputs": [],
   "source": [
    "train_df = train_df.sample(n=1000, random_state=11)"
   ]
  },
  {
   "cell_type": "code",
   "execution_count": 4,
   "id": "f7c61c12-b907-4172-a791-fdab55b0bc48",
   "metadata": {},
   "outputs": [
    {
     "data": {
      "text/html": [
       "<div>\n",
       "<style scoped>\n",
       "    .dataframe tbody tr th:only-of-type {\n",
       "        vertical-align: middle;\n",
       "    }\n",
       "\n",
       "    .dataframe tbody tr th {\n",
       "        vertical-align: top;\n",
       "    }\n",
       "\n",
       "    .dataframe thead th {\n",
       "        text-align: right;\n",
       "    }\n",
       "</style>\n",
       "<table border=\"1\" class=\"dataframe\">\n",
       "  <thead>\n",
       "    <tr style=\"text-align: right;\">\n",
       "      <th></th>\n",
       "      <th>id</th>\n",
       "      <th>img</th>\n",
       "      <th>label</th>\n",
       "      <th>text</th>\n",
       "    </tr>\n",
       "  </thead>\n",
       "  <tbody>\n",
       "    <tr>\n",
       "      <th>5926</th>\n",
       "      <td>28461</td>\n",
       "      <td>img/28461.png</td>\n",
       "      <td>0</td>\n",
       "      <td>red bull gives you wings vodka gives you 4x4</td>\n",
       "    </tr>\n",
       "  </tbody>\n",
       "</table>\n",
       "</div>"
      ],
      "text/plain": [
       "         id            img  label  \\\n",
       "5926  28461  img/28461.png      0   \n",
       "\n",
       "                                              text  \n",
       "5926  red bull gives you wings vodka gives you 4x4  "
      ]
     },
     "execution_count": 4,
     "metadata": {},
     "output_type": "execute_result"
    }
   ],
   "source": [
    "train_df.head(1)"
   ]
  },
  {
   "cell_type": "markdown",
   "id": "0bda0ced-5873-42bc-bbc1-92667966a043",
   "metadata": {},
   "source": [
    "#### perform OCR on df"
   ]
  },
  {
   "cell_type": "code",
   "execution_count": 5,
   "id": "743ddfe8-11c0-4065-82b7-6affbc35efd5",
   "metadata": {},
   "outputs": [
    {
     "data": {
      "text/plain": [
       "999"
      ]
     },
     "metadata": {},
     "output_type": "display_data"
    }
   ],
   "source": [
    "df_result = analysis_utility.ocr_on_df(df=train_df, ds_name='fb', path='data/data_fb/img/', img_format='png')"
   ]
  },
  {
   "cell_type": "code",
   "execution_count": 6,
   "id": "83127a5b-73a1-4162-b6ba-1d783c7d2f77",
   "metadata": {},
   "outputs": [
    {
     "data": {
      "text/html": [
       "<div>\n",
       "<style scoped>\n",
       "    .dataframe tbody tr th:only-of-type {\n",
       "        vertical-align: middle;\n",
       "    }\n",
       "\n",
       "    .dataframe tbody tr th {\n",
       "        vertical-align: top;\n",
       "    }\n",
       "\n",
       "    .dataframe thead th {\n",
       "        text-align: right;\n",
       "    }\n",
       "</style>\n",
       "<table border=\"1\" class=\"dataframe\">\n",
       "  <thead>\n",
       "    <tr style=\"text-align: right;\">\n",
       "      <th></th>\n",
       "      <th>ds_name</th>\n",
       "      <th>_id</th>\n",
       "      <th>confidence</th>\n",
       "      <th>orig_text</th>\n",
       "      <th>pred_text</th>\n",
       "      <th>font_color</th>\n",
       "      <th>all_mean_edge_colors</th>\n",
       "    </tr>\n",
       "  </thead>\n",
       "  <tbody>\n",
       "    <tr>\n",
       "      <th>0</th>\n",
       "      <td>fb</td>\n",
       "      <td>28461</td>\n",
       "      <td>18.289230</td>\n",
       "      <td>red bull gives you wings vodka gives you 4x4</td>\n",
       "      <td>hel (dol chves vou wings a vodka gives you ay</td>\n",
       "      <td>white</td>\n",
       "      <td>128.589986</td>\n",
       "    </tr>\n",
       "    <tr>\n",
       "      <th>1</th>\n",
       "      <td>fb</td>\n",
       "      <td>64905</td>\n",
       "      <td>96.027634</td>\n",
       "      <td>when you get to choose your own mental illness</td>\n",
       "      <td>cone $9 oe ke) o® of oe sps oe ls xx on nan vo...</td>\n",
       "      <td>white</td>\n",
       "      <td>196.700872</td>\n",
       "    </tr>\n",
       "    <tr>\n",
       "      <th>2</th>\n",
       "      <td>fb</td>\n",
       "      <td>58947</td>\n",
       "      <td>0.000000</td>\n",
       "      <td>dumb and happy</td>\n",
       "      <td>/ dumb</td>\n",
       "      <td>white</td>\n",
       "      <td>56.939592</td>\n",
       "    </tr>\n",
       "    <tr>\n",
       "      <th>3</th>\n",
       "      <td>fb</td>\n",
       "      <td>14590</td>\n",
       "      <td>89.958191</td>\n",
       "      <td>fifty shades of goat an isis love story</td>\n",
       "      <td>fifty shades of goat an ses love stor</td>\n",
       "      <td>white</td>\n",
       "      <td>80.431470</td>\n",
       "    </tr>\n",
       "    <tr>\n",
       "      <th>4</th>\n",
       "      <td>fb</td>\n",
       "      <td>75260</td>\n",
       "      <td>64.574295</td>\n",
       "      <td>pot holes what a great way to wake you up</td>\n",
       "      <td>pot holes what q great way to wake you u</td>\n",
       "      <td>white</td>\n",
       "      <td>129.283776</td>\n",
       "    </tr>\n",
       "    <tr>\n",
       "      <th>...</th>\n",
       "      <td>...</td>\n",
       "      <td>...</td>\n",
       "      <td>...</td>\n",
       "      <td>...</td>\n",
       "      <td>...</td>\n",
       "      <td>...</td>\n",
       "      <td>...</td>\n",
       "    </tr>\n",
       "    <tr>\n",
       "      <th>995</th>\n",
       "      <td>fb</td>\n",
       "      <td>07319</td>\n",
       "      <td>87.395676</td>\n",
       "      <td>musslamic democrat, ilhan omar, has threatened...</td>\n",
       "      <td>musslanite democrat, than omar, has ial member...</td>\n",
       "      <td>white</td>\n",
       "      <td>117.890526</td>\n",
       "    </tr>\n",
       "    <tr>\n",
       "      <th>996</th>\n",
       "      <td>fb</td>\n",
       "      <td>43259</td>\n",
       "      <td>96.825943</td>\n",
       "      <td>all she wanted to hear was \"i love you\" all he...</td>\n",
       "      <td>all sits wanted to hear was love you all he wa...</td>\n",
       "      <td>white</td>\n",
       "      <td>145.027100</td>\n",
       "    </tr>\n",
       "    <tr>\n",
       "      <th>997</th>\n",
       "      <td>fb</td>\n",
       "      <td>87261</td>\n",
       "      <td>94.950882</td>\n",
       "      <td>how many nails are there in a lesbian's coffin...</td>\n",
       "      <td>how many nails lad hilda a lesbian ss cofiin? ...</td>\n",
       "      <td>white</td>\n",
       "      <td>46.962464</td>\n",
       "    </tr>\n",
       "    <tr>\n",
       "      <th>998</th>\n",
       "      <td>fb</td>\n",
       "      <td>89602</td>\n",
       "      <td>55.217052</td>\n",
       "      <td>bring me another smurf</td>\n",
       "      <td>bring ine another smurt</td>\n",
       "      <td>white</td>\n",
       "      <td>162.940761</td>\n",
       "    </tr>\n",
       "    <tr>\n",
       "      <th>999</th>\n",
       "      <td>fb</td>\n",
       "      <td>80425</td>\n",
       "      <td>0.000000</td>\n",
       "      <td>the guy who created the joke the jokers</td>\n",
       "      <td>it guy wito createll the joke he forark</td>\n",
       "      <td>white</td>\n",
       "      <td>161.280745</td>\n",
       "    </tr>\n",
       "  </tbody>\n",
       "</table>\n",
       "<p>1000 rows × 7 columns</p>\n",
       "</div>"
      ],
      "text/plain": [
       "    ds_name    _id  confidence  \\\n",
       "0        fb  28461   18.289230   \n",
       "1        fb  64905   96.027634   \n",
       "2        fb  58947    0.000000   \n",
       "3        fb  14590   89.958191   \n",
       "4        fb  75260   64.574295   \n",
       "..      ...    ...         ...   \n",
       "995      fb  07319   87.395676   \n",
       "996      fb  43259   96.825943   \n",
       "997      fb  87261   94.950882   \n",
       "998      fb  89602   55.217052   \n",
       "999      fb  80425    0.000000   \n",
       "\n",
       "                                             orig_text  \\\n",
       "0         red bull gives you wings vodka gives you 4x4   \n",
       "1       when you get to choose your own mental illness   \n",
       "2                                       dumb and happy   \n",
       "3              fifty shades of goat an isis love story   \n",
       "4            pot holes what a great way to wake you up   \n",
       "..                                                 ...   \n",
       "995  musslamic democrat, ilhan omar, has threatened...   \n",
       "996  all she wanted to hear was \"i love you\" all he...   \n",
       "997  how many nails are there in a lesbian's coffin...   \n",
       "998                             bring me another smurf   \n",
       "999            the guy who created the joke the jokers   \n",
       "\n",
       "                                             pred_text font_color  \\\n",
       "0        hel (dol chves vou wings a vodka gives you ay      white   \n",
       "1    cone $9 oe ke) o® of oe sps oe ls xx on nan vo...      white   \n",
       "2                                              / dumb       white   \n",
       "3                fifty shades of goat an ses love stor      white   \n",
       "4             pot holes what q great way to wake you u      white   \n",
       "..                                                 ...        ...   \n",
       "995  musslanite democrat, than omar, has ial member...      white   \n",
       "996  all sits wanted to hear was love you all he wa...      white   \n",
       "997  how many nails lad hilda a lesbian ss cofiin? ...      white   \n",
       "998                            bring ine another smurt      white   \n",
       "999            it guy wito createll the joke he forark      white   \n",
       "\n",
       "     all_mean_edge_colors  \n",
       "0              128.589986  \n",
       "1              196.700872  \n",
       "2               56.939592  \n",
       "3               80.431470  \n",
       "4              129.283776  \n",
       "..                    ...  \n",
       "995            117.890526  \n",
       "996            145.027100  \n",
       "997             46.962464  \n",
       "998            162.940761  \n",
       "999            161.280745  \n",
       "\n",
       "[1000 rows x 7 columns]"
      ]
     },
     "execution_count": 6,
     "metadata": {},
     "output_type": "execute_result"
    }
   ],
   "source": [
    "df_result"
   ]
  },
  {
   "cell_type": "code",
   "execution_count": 7,
   "id": "ee065f77-1ae2-4dac-9792-932501858935",
   "metadata": {},
   "outputs": [],
   "source": [
    "df_result.to_csv('fb_ocr_result_all_black.csv')"
   ]
  },
  {
   "cell_type": "code",
   "execution_count": 8,
   "id": "1f474558-63a7-43f9-825a-8dad1b885104",
   "metadata": {},
   "outputs": [
    {
     "data": {
      "text/plain": [
       "white    914\n",
       "black     86\n",
       "Name: font_color, dtype: int64"
      ]
     },
     "execution_count": 8,
     "metadata": {},
     "output_type": "execute_result"
    }
   ],
   "source": [
    "df_result.font_color.value_counts()"
   ]
  },
  {
   "cell_type": "code",
   "execution_count": 9,
   "id": "b6b2683d-f13c-4f06-8fa8-ea80e94ed4c1",
   "metadata": {},
   "outputs": [
    {
     "data": {
      "text/plain": [
       "220.2386114163753"
      ]
     },
     "execution_count": 9,
     "metadata": {},
     "output_type": "execute_result"
    }
   ],
   "source": [
    "df_result[df_result['font_color']=='black'].all_mean_edge_colors.mean()"
   ]
  },
  {
   "cell_type": "code",
   "execution_count": 10,
   "id": "55cd6134-3c97-4113-b7f7-9f621078e210",
   "metadata": {},
   "outputs": [
    {
     "data": {
      "text/plain": [
       "105.40207041313435"
      ]
     },
     "execution_count": 10,
     "metadata": {},
     "output_type": "execute_result"
    }
   ],
   "source": [
    "df_result[df_result['font_color']=='white'].all_mean_edge_colors.mean()"
   ]
  },
  {
   "cell_type": "markdown",
   "id": "bac1531e-072f-414b-8447-85aa0a25dfd8",
   "metadata": {},
   "source": [
    "#### add KPIs on df"
   ]
  },
  {
   "cell_type": "code",
   "execution_count": 11,
   "id": "b5d3b1ef-52ff-4b38-8665-bdc375e98428",
   "metadata": {},
   "outputs": [],
   "source": [
    "df_result = analysis_utility.add_columns_on_df(df_result, ['cos_similarity'])"
   ]
  },
  {
   "cell_type": "code",
   "execution_count": 12,
   "id": "52402c89-5ae4-4f5f-8ff6-fce107d211fc",
   "metadata": {},
   "outputs": [
    {
     "data": {
      "text/plain": [
       "64.23219870700007"
      ]
     },
     "execution_count": 12,
     "metadata": {},
     "output_type": "execute_result"
    }
   ],
   "source": [
    "df_result.confidence.mean()"
   ]
  },
  {
   "cell_type": "code",
   "execution_count": 13,
   "id": "e7716eda-39b3-4978-9d68-ee4e46b59a39",
   "metadata": {},
   "outputs": [
    {
     "data": {
      "text/plain": [
       "52.24833370882027"
      ]
     },
     "execution_count": 13,
     "metadata": {},
     "output_type": "execute_result"
    }
   ],
   "source": [
    "df_result.cos_similarity.mean()"
   ]
  },
  {
   "cell_type": "code",
   "execution_count": 14,
   "id": "fa17a961-4b75-4ca9-9597-217936928b99",
   "metadata": {},
   "outputs": [
    {
     "data": {
      "text/html": [
       "<div>\n",
       "<style scoped>\n",
       "    .dataframe tbody tr th:only-of-type {\n",
       "        vertical-align: middle;\n",
       "    }\n",
       "\n",
       "    .dataframe tbody tr th {\n",
       "        vertical-align: top;\n",
       "    }\n",
       "\n",
       "    .dataframe thead th {\n",
       "        text-align: right;\n",
       "    }\n",
       "</style>\n",
       "<table border=\"1\" class=\"dataframe\">\n",
       "  <thead>\n",
       "    <tr style=\"text-align: right;\">\n",
       "      <th></th>\n",
       "      <th>cos_similarity</th>\n",
       "      <th>confidence</th>\n",
       "    </tr>\n",
       "  </thead>\n",
       "  <tbody>\n",
       "    <tr>\n",
       "      <th>294</th>\n",
       "      <td>100.0</td>\n",
       "      <td>91.639061</td>\n",
       "    </tr>\n",
       "    <tr>\n",
       "      <th>931</th>\n",
       "      <td>100.0</td>\n",
       "      <td>26.581543</td>\n",
       "    </tr>\n",
       "    <tr>\n",
       "      <th>530</th>\n",
       "      <td>100.0</td>\n",
       "      <td>76.642113</td>\n",
       "    </tr>\n",
       "    <tr>\n",
       "      <th>134</th>\n",
       "      <td>100.0</td>\n",
       "      <td>49.998459</td>\n",
       "    </tr>\n",
       "    <tr>\n",
       "      <th>643</th>\n",
       "      <td>100.0</td>\n",
       "      <td>16.489944</td>\n",
       "    </tr>\n",
       "    <tr>\n",
       "      <th>...</th>\n",
       "      <td>...</td>\n",
       "      <td>...</td>\n",
       "    </tr>\n",
       "    <tr>\n",
       "      <th>96</th>\n",
       "      <td>0.0</td>\n",
       "      <td>0.000000</td>\n",
       "    </tr>\n",
       "    <tr>\n",
       "      <th>92</th>\n",
       "      <td>0.0</td>\n",
       "      <td>96.106056</td>\n",
       "    </tr>\n",
       "    <tr>\n",
       "      <th>793</th>\n",
       "      <td>0.0</td>\n",
       "      <td>13.870201</td>\n",
       "    </tr>\n",
       "    <tr>\n",
       "      <th>445</th>\n",
       "      <td>0.0</td>\n",
       "      <td>30.047562</td>\n",
       "    </tr>\n",
       "    <tr>\n",
       "      <th>548</th>\n",
       "      <td>0.0</td>\n",
       "      <td>45.279102</td>\n",
       "    </tr>\n",
       "  </tbody>\n",
       "</table>\n",
       "<p>1000 rows × 2 columns</p>\n",
       "</div>"
      ],
      "text/plain": [
       "     cos_similarity  confidence\n",
       "294           100.0   91.639061\n",
       "931           100.0   26.581543\n",
       "530           100.0   76.642113\n",
       "134           100.0   49.998459\n",
       "643           100.0   16.489944\n",
       "..              ...         ...\n",
       "96              0.0    0.000000\n",
       "92              0.0   96.106056\n",
       "793             0.0   13.870201\n",
       "445             0.0   30.047562\n",
       "548             0.0   45.279102\n",
       "\n",
       "[1000 rows x 2 columns]"
      ]
     },
     "execution_count": 14,
     "metadata": {},
     "output_type": "execute_result"
    }
   ],
   "source": [
    "df_result[['cos_similarity', 'confidence']].sort_values(by='cos_similarity', ascending=False)"
   ]
  },
  {
   "cell_type": "code",
   "execution_count": 15,
   "id": "91ab2e62-1ea3-4649-a164-69d8ce497b18",
   "metadata": {},
   "outputs": [
    {
     "data": {
      "text/plain": [
       "<AxesSubplot:>"
      ]
     },
     "execution_count": 15,
     "metadata": {},
     "output_type": "execute_result"
    },
    {
     "data": {
      "image/png": "[encoded data removed]",
      "text/plain": [
       "<Figure size 432x288 with 1 Axes>"
      ]
     },
     "metadata": {
      "needs_background": "light"
     },
     "output_type": "display_data"
    }
   ],
   "source": [
    "df_result[['cos_similarity', 'confidence']].sort_values(by='cos_similarity', ascending=False).reset_index(drop=True).plot(kind='line')"
   ]
  },
  {
   "cell_type": "code",
   "execution_count": 16,
   "id": "06ed15f6-bec6-4620-a408-0d4278e57166",
   "metadata": {},
   "outputs": [
    {
     "data": {
      "text/html": [
       "<div>\n",
       "<style scoped>\n",
       "    .dataframe tbody tr th:only-of-type {\n",
       "        vertical-align: middle;\n",
       "    }\n",
       "\n",
       "    .dataframe tbody tr th {\n",
       "        vertical-align: top;\n",
       "    }\n",
       "\n",
       "    .dataframe thead th {\n",
       "        text-align: right;\n",
       "    }\n",
       "</style>\n",
       "<table border=\"1\" class=\"dataframe\">\n",
       "  <thead>\n",
       "    <tr style=\"text-align: right;\">\n",
       "      <th></th>\n",
       "      <th>ds_name</th>\n",
       "      <th>_id</th>\n",
       "      <th>confidence</th>\n",
       "      <th>orig_text</th>\n",
       "      <th>pred_text</th>\n",
       "      <th>font_color</th>\n",
       "      <th>all_mean_edge_colors</th>\n",
       "      <th>cos_similarity</th>\n",
       "    </tr>\n",
       "  </thead>\n",
       "  <tbody>\n",
       "    <tr>\n",
       "      <th>499</th>\n",
       "      <td>fb</td>\n",
       "      <td>26543</td>\n",
       "      <td>59.505669</td>\n",
       "      <td>fucking a 5 year old fucking five 1 year olds ...</td>\n",
       "      <td>yed ‘ved o</td>\n",
       "      <td>white</td>\n",
       "      <td>77.055408</td>\n",
       "      <td>0.0</td>\n",
       "    </tr>\n",
       "    <tr>\n",
       "      <th>42</th>\n",
       "      <td>fb</td>\n",
       "      <td>48639</td>\n",
       "      <td>48.002911</td>\n",
       "      <td>disney and chill ?</td>\n",
       "      <td>disiey antl eyit a</td>\n",
       "      <td>white</td>\n",
       "      <td>197.491057</td>\n",
       "      <td>0.0</td>\n",
       "    </tr>\n",
       "    <tr>\n",
       "      <th>884</th>\n",
       "      <td>fb</td>\n",
       "      <td>59817</td>\n",
       "      <td>82.389137</td>\n",
       "      <td>putting bows on your pet</td>\n",
       "      <td>dotting ows oll ou pea</td>\n",
       "      <td>black</td>\n",
       "      <td>214.925140</td>\n",
       "      <td>0.0</td>\n",
       "    </tr>\n",
       "    <tr>\n",
       "      <th>266</th>\n",
       "      <td>fb</td>\n",
       "      <td>15796</td>\n",
       "      <td>18.502998</td>\n",
       "      <td>a short history of my snack regimen</td>\n",
       "      <td>i stole be story: i i</td>\n",
       "      <td>white</td>\n",
       "      <td>144.763067</td>\n",
       "      <td>0.0</td>\n",
       "    </tr>\n",
       "    <tr>\n",
       "      <th>537</th>\n",
       "      <td>fb</td>\n",
       "      <td>79803</td>\n",
       "      <td>44.865074</td>\n",
       "      <td>when did you have lunch?</td>\n",
       "      <td>min tid vout rave hunch</td>\n",
       "      <td>black</td>\n",
       "      <td>210.651460</td>\n",
       "      <td>0.0</td>\n",
       "    </tr>\n",
       "    <tr>\n",
       "      <th>...</th>\n",
       "      <td>...</td>\n",
       "      <td>...</td>\n",
       "      <td>...</td>\n",
       "      <td>...</td>\n",
       "      <td>...</td>\n",
       "      <td>...</td>\n",
       "      <td>...</td>\n",
       "      <td>...</td>\n",
       "    </tr>\n",
       "    <tr>\n",
       "      <th>643</th>\n",
       "      <td>fb</td>\n",
       "      <td>68719</td>\n",
       "      <td>16.489944</td>\n",
       "      <td>when everyone thinks you're the bomb</td>\n",
       "      <td>when everyone thinks you're the bomb</td>\n",
       "      <td>white</td>\n",
       "      <td>95.875702</td>\n",
       "      <td>100.0</td>\n",
       "    </tr>\n",
       "    <tr>\n",
       "      <th>134</th>\n",
       "      <td>fb</td>\n",
       "      <td>74096</td>\n",
       "      <td>49.998459</td>\n",
       "      <td>him:</td>\n",
       "      <td>him</td>\n",
       "      <td>white</td>\n",
       "      <td>68.993902</td>\n",
       "      <td>100.0</td>\n",
       "    </tr>\n",
       "    <tr>\n",
       "      <th>530</th>\n",
       "      <td>fb</td>\n",
       "      <td>71628</td>\n",
       "      <td>76.642113</td>\n",
       "      <td>where's my water?</td>\n",
       "      <td>where's my water</td>\n",
       "      <td>white</td>\n",
       "      <td>147.388876</td>\n",
       "      <td>100.0</td>\n",
       "    </tr>\n",
       "    <tr>\n",
       "      <th>294</th>\n",
       "      <td>fb</td>\n",
       "      <td>94357</td>\n",
       "      <td>91.639061</td>\n",
       "      <td>\"the master race'</td>\n",
       "      <td>“the master race</td>\n",
       "      <td>white</td>\n",
       "      <td>48.504327</td>\n",
       "      <td>100.0</td>\n",
       "    </tr>\n",
       "    <tr>\n",
       "      <th>931</th>\n",
       "      <td>fb</td>\n",
       "      <td>42706</td>\n",
       "      <td>26.581543</td>\n",
       "      <td>what happened to my damn balls!!</td>\n",
       "      <td>what happened to my damn-balls!</td>\n",
       "      <td>white</td>\n",
       "      <td>51.216878</td>\n",
       "      <td>100.0</td>\n",
       "    </tr>\n",
       "  </tbody>\n",
       "</table>\n",
       "<p>1000 rows × 8 columns</p>\n",
       "</div>"
      ],
      "text/plain": [
       "    ds_name    _id  confidence  \\\n",
       "499      fb  26543   59.505669   \n",
       "42       fb  48639   48.002911   \n",
       "884      fb  59817   82.389137   \n",
       "266      fb  15796   18.502998   \n",
       "537      fb  79803   44.865074   \n",
       "..      ...    ...         ...   \n",
       "643      fb  68719   16.489944   \n",
       "134      fb  74096   49.998459   \n",
       "530      fb  71628   76.642113   \n",
       "294      fb  94357   91.639061   \n",
       "931      fb  42706   26.581543   \n",
       "\n",
       "                                             orig_text  \\\n",
       "499  fucking a 5 year old fucking five 1 year olds ...   \n",
       "42                                  disney and chill ?   \n",
       "884                           putting bows on your pet   \n",
       "266                a short history of my snack regimen   \n",
       "537                           when did you have lunch?   \n",
       "..                                                 ...   \n",
       "643               when everyone thinks you're the bomb   \n",
       "134                                               him:   \n",
       "530                                  where's my water?   \n",
       "294                                  \"the master race'   \n",
       "931                   what happened to my damn balls!!   \n",
       "\n",
       "                                 pred_text font_color  all_mean_edge_colors  \\\n",
       "499                             yed ‘ved o      white             77.055408   \n",
       "42                      disiey antl eyit a      white            197.491057   \n",
       "884                 dotting ows oll ou pea      black            214.925140   \n",
       "266                  i stole be story: i i      white            144.763067   \n",
       "537                min tid vout rave hunch      black            210.651460   \n",
       "..                                     ...        ...                   ...   \n",
       "643  when everyone thinks you're the bomb       white             95.875702   \n",
       "134                                    him      white             68.993902   \n",
       "530                       where's my water      white            147.388876   \n",
       "294                       “the master race      white             48.504327   \n",
       "931        what happened to my damn-balls!      white             51.216878   \n",
       "\n",
       "     cos_similarity  \n",
       "499             0.0  \n",
       "42              0.0  \n",
       "884             0.0  \n",
       "266             0.0  \n",
       "537             0.0  \n",
       "..              ...  \n",
       "643           100.0  \n",
       "134           100.0  \n",
       "530           100.0  \n",
       "294           100.0  \n",
       "931           100.0  \n",
       "\n",
       "[1000 rows x 8 columns]"
      ]
     },
     "execution_count": 16,
     "metadata": {},
     "output_type": "execute_result"
    }
   ],
   "source": [
    "df_result.sort_values(by='cos_similarity')"
   ]
  },
  {
   "cell_type": "code",
   "execution_count": null,
   "id": "f38cef50-4358-4bcb-a8e0-c88a4a51614f",
   "metadata": {},
   "outputs": [],
   "source": []
  }
 ],
 "metadata": {
  "kernelspec": {
   "display_name": "Python 3",
   "language": "python",
   "name": "python3"
  },
  "language_info": {
   "codemirror_mode": {
    "name": "ipython",
    "version": 3
   },
   "file_extension": ".py",
   "mimetype": "text/x-python",
   "name": "python",
   "nbconvert_exporter": "python",
   "pygments_lexer": "ipython3",
   "version": "3.8.11"
  }
 },
 "nbformat": 4,
 "nbformat_minor": 5
}
